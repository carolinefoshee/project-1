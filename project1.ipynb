{
 "cells": [
  {
   "cell_type": "markdown",
   "id": "c8b10f4a",
   "metadata": {},
   "source": [
    "# What are the main determinants of health insurance costs?"
   ]
  },
  {
   "cell_type": "markdown",
   "id": "228ce1bf",
   "metadata": {},
   "source": [
    "Importing and cleaning the data"
   ]
  },
  {
   "cell_type": "code",
   "execution_count": 3,
   "id": "e924fc0b",
   "metadata": {},
   "outputs": [],
   "source": [
    "# import modules\n",
    "import pandas as pd \n",
    "from pathlib import Path\n",
    "import matplotlib.pyplot as plt\n",
    "import scipy.stats as st\n",
    "from scipy.stats import linregress\n",
    "import numpy as np\n",
    "import random"
   ]
  },
  {
   "cell_type": "code",
   "execution_count": 6,
   "id": "062fd164",
   "metadata": {},
   "outputs": [
    {
     "data": {
      "text/html": [
       "<div>\n",
       "<style scoped>\n",
       "    .dataframe tbody tr th:only-of-type {\n",
       "        vertical-align: middle;\n",
       "    }\n",
       "\n",
       "    .dataframe tbody tr th {\n",
       "        vertical-align: top;\n",
       "    }\n",
       "\n",
       "    .dataframe thead th {\n",
       "        text-align: right;\n",
       "    }\n",
       "</style>\n",
       "<table border=\"1\" class=\"dataframe\">\n",
       "  <thead>\n",
       "    <tr style=\"text-align: right;\">\n",
       "      <th></th>\n",
       "      <th>age</th>\n",
       "      <th>sex</th>\n",
       "      <th>bmi</th>\n",
       "      <th>children</th>\n",
       "      <th>smoker</th>\n",
       "      <th>region</th>\n",
       "      <th>charges</th>\n",
       "    </tr>\n",
       "  </thead>\n",
       "  <tbody>\n",
       "    <tr>\n",
       "      <th>0</th>\n",
       "      <td>19</td>\n",
       "      <td>female</td>\n",
       "      <td>27.900</td>\n",
       "      <td>0</td>\n",
       "      <td>yes</td>\n",
       "      <td>southwest</td>\n",
       "      <td>16884.92400</td>\n",
       "    </tr>\n",
       "    <tr>\n",
       "      <th>1</th>\n",
       "      <td>18</td>\n",
       "      <td>male</td>\n",
       "      <td>33.770</td>\n",
       "      <td>1</td>\n",
       "      <td>no</td>\n",
       "      <td>southeast</td>\n",
       "      <td>1725.55230</td>\n",
       "    </tr>\n",
       "    <tr>\n",
       "      <th>2</th>\n",
       "      <td>28</td>\n",
       "      <td>male</td>\n",
       "      <td>33.000</td>\n",
       "      <td>3</td>\n",
       "      <td>no</td>\n",
       "      <td>southeast</td>\n",
       "      <td>4449.46200</td>\n",
       "    </tr>\n",
       "    <tr>\n",
       "      <th>3</th>\n",
       "      <td>33</td>\n",
       "      <td>male</td>\n",
       "      <td>22.705</td>\n",
       "      <td>0</td>\n",
       "      <td>no</td>\n",
       "      <td>northwest</td>\n",
       "      <td>21984.47061</td>\n",
       "    </tr>\n",
       "    <tr>\n",
       "      <th>4</th>\n",
       "      <td>32</td>\n",
       "      <td>male</td>\n",
       "      <td>28.880</td>\n",
       "      <td>0</td>\n",
       "      <td>no</td>\n",
       "      <td>northwest</td>\n",
       "      <td>3866.85520</td>\n",
       "    </tr>\n",
       "  </tbody>\n",
       "</table>\n",
       "</div>"
      ],
      "text/plain": [
       "   age     sex     bmi  children smoker     region      charges\n",
       "0   19  female  27.900         0    yes  southwest  16884.92400\n",
       "1   18    male  33.770         1     no  southeast   1725.55230\n",
       "2   28    male  33.000         3     no  southeast   4449.46200\n",
       "3   33    male  22.705         0     no  northwest  21984.47061\n",
       "4   32    male  28.880         0     no  northwest   3866.85520"
      ]
     },
     "execution_count": 6,
     "metadata": {},
     "output_type": "execute_result"
    }
   ],
   "source": [
    "# import csv into pandas file\n",
    "insurance_csv = Path('insurance.csv')\n",
    "insurance_df = pd.read_csv(insurance_csv)\n",
    "insurance_df.head()"
   ]
  },
  {
   "cell_type": "code",
   "execution_count": 17,
   "id": "d6771dcd",
   "metadata": {},
   "outputs": [
    {
     "data": {
      "image/png": "[encoded data removed]",
      "text/plain": [
       "<Figure size 640x480 with 1 Axes>"
      ]
     },
     "metadata": {},
     "output_type": "display_data"
    }
   ],
   "source": [
    "# boxplot of values and outliers\n",
    "insurance_df.boxplot(column=\"charges\")\n",
    "plt.show()"
   ]
  },
  {
   "cell_type": "code",
   "execution_count": 25,
   "id": "6eb8b5f5",
   "metadata": {
    "scrolled": true
   },
   "outputs": [],
   "source": [
    "# find and remove outliers\n",
    "quartiles= insurance_df[\"charges\"].quantile([.25,.5,.75])\n",
    "lowerq= quartiles[.25]\n",
    "upperq= quartiles[.75]\n",
    "iqr= upperq-lowerq\n",
    "lower_bound = lowerq-(1.5*iqr)\n",
    "upper_bound=upperq+(1.5*iqr)\n",
    "insurance_df= insurance_df.loc[(insurance_df[\"charges\"]>=lower_bound) |\\\n",
    "                                     (insurance_df[\"charges\"]<upper_bound)]"
   ]
  },
  {
   "cell_type": "code",
   "execution_count": 27,
   "id": "4e34ce1f",
   "metadata": {},
   "outputs": [
    {
     "data": {
      "text/plain": [
       "False"
      ]
     },
     "execution_count": 27,
     "metadata": {},
     "output_type": "execute_result"
    }
   ],
   "source": [
    "# drop NAs \n",
    "insurance_df.isnull().values.any()\n",
    "insurance_df.dropna()"
   ]
  },
  {
   "cell_type": "markdown",
   "id": "0a4ac6d4",
   "metadata": {},
   "source": [
    "Descriptive Statistics"
   ]
  },
  {
   "cell_type": "code",
   "execution_count": 28,
   "id": "d177ad8d",
   "metadata": {},
   "outputs": [
    {
     "name": "stdout",
     "output_type": "stream",
     "text": [
      "               age          bmi     children       charges\n",
      "count  1338.000000  1338.000000  1338.000000   1338.000000\n",
      "mean     39.207025    30.663397     1.094918  13270.422265\n",
      "std      14.049960     6.098187     1.205493  12110.011237\n",
      "min      18.000000    15.960000     0.000000   1121.873900\n",
      "25%      27.000000    26.296250     0.000000   4740.287150\n",
      "50%      39.000000    30.400000     1.000000   9382.033000\n",
      "75%      51.000000    34.693750     2.000000  16639.912515\n",
      "max      64.000000    53.130000     5.000000  63770.428010\n"
     ]
    }
   ],
   "source": [
    "# print descriptive statistics \n",
    "print(insurance_df.describe())"
   ]
  },
  {
   "cell_type": "code",
   "execution_count": 47,
   "id": "678f5c8b",
   "metadata": {},
   "outputs": [
    {
     "data": {
      "image/png": "[encoded data removed]",
      "text/plain": [
       "<Figure size 640x480 with 1 Axes>"
      ]
     },
     "metadata": {},
     "output_type": "display_data"
    }
   ],
   "source": [
    "# pie charts of gender percentage \n",
    "categories=[\"Male\",\"Female\"]\n",
    "gender_count=insurance_df[\"sex\"].value_counts()\n",
    "# gender_count\n",
    "plt.pie(gender_count, labels=categories, autopct='%1.1f%%')\n",
    "plt.title(\"Gender Breakdown of Insurance Recipients\")\n",
    "plt.show()"
   ]
  },
  {
   "cell_type": "code",
   "execution_count": 45,
   "id": "a871cf02",
   "metadata": {},
   "outputs": [
    {
     "data": {
      "text/plain": [
       "southeast    364\n",
       "southwest    325\n",
       "northwest    325\n",
       "northeast    324\n",
       "Name: region, dtype: int64"
      ]
     },
     "execution_count": 45,
     "metadata": {},
     "output_type": "execute_result"
    }
   ],
   "source": [
    "# region percentage bar chart \n",
    "categories=[\"Northwest\",\"Southwest\",\"Southeast\",\"Northeast\"]\n",
    "region_count=insurance_df[\"region\"].value_counts()\n",
    "region_count\n",
    "plt.pie(region_count, labels=categories, autopct='%1.1f%%')\n",
    "plt.title(\"Location Distribution of Insurance Recipients\")\n",
    "plt.show()"
   ]
  },
  {
   "cell_type": "code",
   "execution_count": 43,
   "id": "38dd89ff",
   "metadata": {},
   "outputs": [
    {
     "data": {
      "image/png": "[encoded data removed]",
      "text/plain": [
       "<Figure size 640x480 with 1 Axes>"
      ]
     },
     "metadata": {},
     "output_type": "display_data"
    }
   ],
   "source": [
    "# percentage of smokers \n",
    "categories=[\"Non-smoker\",\"Smoker\"]\n",
    "smoker_count=insurance_df[\"smoker\"].value_counts()\n",
    "plt.pie(smoker_count, labels=categories, autopct='%1.1f%%')\n",
    "plt.title(\"Smoking Habits of Insurance Recipients\")\n",
    "plt.show()"
   ]
  },
  {
   "cell_type": "code",
   "execution_count": null,
   "id": "9269bf8b",
   "metadata": {},
   "outputs": [],
   "source": [
    "# number of children bar chart \n",
    "drug_regimen_names=mouse_df[\"Drug Regimen\"].unique()\n",
    "drug_regimen_counts=mouse_df[\"Drug Regimen\"].value_counts()\n",
    "plt.bar(drug_regimen_names,drug_regimen_counts)\n",
    "plt.xlabel(\"Drug Regimen\")\n",
    "plt.ylabel(\"# of Observed Mouse Timepoints\")\n",
    "plt.show()"
   ]
  },
  {
   "cell_type": "code",
   "execution_count": null,
   "id": "ba6ac376",
   "metadata": {},
   "outputs": [],
   "source": [
    "# bmi histogram "
   ]
  },
  {
   "cell_type": "code",
   "execution_count": null,
   "id": "ba7da2f5",
   "metadata": {},
   "outputs": [],
   "source": [
    "# insurance cost histagram"
   ]
  },
  {
   "cell_type": "markdown",
   "id": "2e8b71f1",
   "metadata": {},
   "source": [
    "Relationships between independent variables"
   ]
  },
  {
   "cell_type": "code",
   "execution_count": null,
   "id": "3eed1605",
   "metadata": {},
   "outputs": [],
   "source": [
    "# print correlations --> don't do scatterplots "
   ]
  },
  {
   "cell_type": "markdown",
   "id": "a5e88f4e",
   "metadata": {},
   "source": [
    "Relationships between independent variables and health insurance costs"
   ]
  },
  {
   "cell_type": "code",
   "execution_count": null,
   "id": "d04b1579",
   "metadata": {},
   "outputs": [],
   "source": [
    "# graph 1: bmi vs. insurance costs (scatterplot)"
   ]
  },
  {
   "cell_type": "code",
   "execution_count": null,
   "id": "c83488af",
   "metadata": {},
   "outputs": [],
   "source": [
    "# graph 2: age vs. insurance costs (scatterplot)"
   ]
  },
  {
   "cell_type": "code",
   "execution_count": null,
   "id": "821ea015",
   "metadata": {},
   "outputs": [],
   "source": [
    "# graph 3: smoking vs. insurance costs (bar graph)"
   ]
  },
  {
   "cell_type": "code",
   "execution_count": null,
   "id": "055781b1",
   "metadata": {},
   "outputs": [],
   "source": [
    "# graph 4: gender vs. insurance costs (bar graph)"
   ]
  },
  {
   "cell_type": "code",
   "execution_count": null,
   "id": "5310de35",
   "metadata": {},
   "outputs": [],
   "source": [
    "# graph 5: region of the country (bar graph)"
   ]
  },
  {
   "cell_type": "code",
   "execution_count": null,
   "id": "8e9e59a7",
   "metadata": {},
   "outputs": [],
   "source": [
    "# graph 6: # of children vs. insurance costs (bar graph)"
   ]
  },
  {
   "cell_type": "code",
   "execution_count": null,
   "id": "b507ea45",
   "metadata": {},
   "outputs": [],
   "source": [
    "# regression \n",
    "# insurance costs = a0 + a1*bmi + a2*age + a3*dummy1 + "
   ]
  }
 ],
 "metadata": {
  "kernelspec": {
   "display_name": "Python 3 (ipykernel)",
   "language": "python",
   "name": "python3"
  },
  "language_info": {
   "codemirror_mode": {
    "name": "ipython",
    "version": 3
   },
   "file_extension": ".py",
   "mimetype": "text/x-python",
   "name": "python",
   "nbconvert_exporter": "python",
   "pygments_lexer": "ipython3",
   "version": "3.10.9"
  }
 },
 "nbformat": 4,
 "nbformat_minor": 5
}
